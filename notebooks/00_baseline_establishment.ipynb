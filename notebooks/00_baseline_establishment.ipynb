{
 "cells": [
  {
   "cell_type": "code",
   "execution_count": 1,
   "id": "111c69e3-77be-46eb-a5c8-c2e637c2e346",
   "metadata": {},
   "outputs": [],
   "source": [
    "# Cell 1\n",
    "import sys\n",
    "import os\n",
    "\n",
    "\n",
    "# This ensures imports like `from utils.data_loader import load_data` work\n",
    "project_root = os.path.abspath(\"..\")  # Adjust if your notebook is deeper\n",
    "if project_root not in sys.path:\n",
    " sys.path.insert(0, project_root)\n",
    "\n",
    "\n",
    "import pandas as pd\n",
    "import numpy as np\n",
    "import json\n",
    "from datetime import datetime\n",
    "import git\n",
    "\n",
    "from utilis.data_loader import load_data\n",
    "from strategies.current_algo import AdvancedTradingAlgorithm\n",
    "from backtests.engine import run_backtest\n",
    "from backtests.metrics import calculate_comprehensive_metrics\n"
   ]
  },
  {
   "cell_type": "code",
   "execution_count": 3,
   "id": "f035a353-3ebf-4495-aff7-812c636173d6",
   "metadata": {},
   "outputs": [
    {
     "name": "stdout",
     "output_type": "stream",
     "text": [
      "Running baseline: AAPL - 1y\n",
      "Looking for file at: /workspaces/anomaly_trading_algorithm/data/processed/AAPL_1y.csv\n",
      "Running baseline: AAPL - 2y\n",
      "Looking for file at: /workspaces/anomaly_trading_algorithm/data/processed/AAPL_2y.csv\n"
     ]
    },
    {
     "name": "stdout",
     "output_type": "stream",
     "text": [
      "Running baseline: MSFT - 1y\n",
      "Looking for file at: /workspaces/anomaly_trading_algorithm/data/processed/MSFT_1y.csv\n",
      "Running baseline: MSFT - 2y\n",
      "Looking for file at: /workspaces/anomaly_trading_algorithm/data/processed/MSFT_2y.csv\n",
      "Running baseline: SPY - 1y\n",
      "Looking for file at: /workspaces/anomaly_trading_algorithm/data/processed/SPY_1y.csv\n",
      "Running baseline: SPY - 2y\n",
      "Looking for file at: /workspaces/anomaly_trading_algorithm/data/processed/SPY_2y.csv\n",
      "Running baseline: GOOGL - 1y\n",
      "Looking for file at: /workspaces/anomaly_trading_algorithm/data/processed/GOOGL_1y.csv\n",
      "Running baseline: GOOGL - 2y\n",
      "Looking for file at: /workspaces/anomaly_trading_algorithm/data/processed/GOOGL_2y.csv\n"
     ]
    },
    {
     "ename": "FileNotFoundError",
     "evalue": "[Errno 2] No such file or directory: '../backtest/results/baseline/baseline_results.json'",
     "output_type": "error",
     "traceback": [
      "\u001b[31m---------------------------------------------------------------------------\u001b[39m",
      "\u001b[31mFileNotFoundError\u001b[39m                         Traceback (most recent call last)",
      "\u001b[36mCell\u001b[39m\u001b[36m \u001b[39m\u001b[32mIn[3]\u001b[39m\u001b[32m, line 35\u001b[39m\n\u001b[32m     31\u001b[39m         json.dump(baseline_results, f, indent=\u001b[32m2\u001b[39m)\n\u001b[32m     33\u001b[39m     \u001b[38;5;28;01mreturn\u001b[39;00m baseline_results\n\u001b[32m---> \u001b[39m\u001b[32m35\u001b[39m baseline = \u001b[43mestablish_baseline\u001b[49m\u001b[43m(\u001b[49m\u001b[43m)\u001b[49m\n",
      "\u001b[36mCell\u001b[39m\u001b[36m \u001b[39m\u001b[32mIn[3]\u001b[39m\u001b[32m, line 30\u001b[39m, in \u001b[36mestablish_baseline\u001b[39m\u001b[34m()\u001b[39m\n\u001b[32m     16\u001b[39m         key = \u001b[33mf\u001b[39m\u001b[33m\"\u001b[39m\u001b[38;5;132;01m{\u001b[39;00msymbol\u001b[38;5;132;01m}\u001b[39;00m\u001b[33m_\u001b[39m\u001b[38;5;132;01m{\u001b[39;00mperiod\u001b[38;5;132;01m}\u001b[39;00m\u001b[33m\"\u001b[39m\n\u001b[32m     17\u001b[39m         baseline_results[key] = {\n\u001b[32m     18\u001b[39m             \u001b[33m'\u001b[39m\u001b[33msymbol\u001b[39m\u001b[33m'\u001b[39m: symbol,\n\u001b[32m     19\u001b[39m             \u001b[33m'\u001b[39m\u001b[33mperiod\u001b[39m\u001b[33m'\u001b[39m: period,\n\u001b[32m   (...)\u001b[39m\u001b[32m     27\u001b[39m \n\u001b[32m     28\u001b[39m         }\n\u001b[32m---> \u001b[39m\u001b[32m30\u001b[39m \u001b[38;5;28;01mwith\u001b[39;00m \u001b[38;5;28;43mopen\u001b[39;49m\u001b[43m(\u001b[49m\u001b[33;43m'\u001b[39;49m\u001b[33;43m../backtest/results/baseline/baseline_results.json\u001b[39;49m\u001b[33;43m'\u001b[39;49m\u001b[43m,\u001b[49m\u001b[43m \u001b[49m\u001b[33;43m'\u001b[39;49m\u001b[33;43mw\u001b[39;49m\u001b[33;43m'\u001b[39;49m\u001b[43m)\u001b[49m \u001b[38;5;28;01mas\u001b[39;00m f:\n\u001b[32m     31\u001b[39m     json.dump(baseline_results, f, indent=\u001b[32m2\u001b[39m)\n\u001b[32m     33\u001b[39m \u001b[38;5;28;01mreturn\u001b[39;00m baseline_results\n",
      "\u001b[36mFile \u001b[39m\u001b[32m~/.local/lib/python3.12/site-packages/IPython/core/interactiveshell.py:325\u001b[39m, in \u001b[36m_modified_open\u001b[39m\u001b[34m(file, *args, **kwargs)\u001b[39m\n\u001b[32m    318\u001b[39m \u001b[38;5;28;01mif\u001b[39;00m file \u001b[38;5;129;01min\u001b[39;00m {\u001b[32m0\u001b[39m, \u001b[32m1\u001b[39m, \u001b[32m2\u001b[39m}:\n\u001b[32m    319\u001b[39m     \u001b[38;5;28;01mraise\u001b[39;00m \u001b[38;5;167;01mValueError\u001b[39;00m(\n\u001b[32m    320\u001b[39m         \u001b[33mf\u001b[39m\u001b[33m\"\u001b[39m\u001b[33mIPython won\u001b[39m\u001b[33m'\u001b[39m\u001b[33mt let you open fd=\u001b[39m\u001b[38;5;132;01m{\u001b[39;00mfile\u001b[38;5;132;01m}\u001b[39;00m\u001b[33m by default \u001b[39m\u001b[33m\"\u001b[39m\n\u001b[32m    321\u001b[39m         \u001b[33m\"\u001b[39m\u001b[33mas it is likely to crash IPython. If you know what you are doing, \u001b[39m\u001b[33m\"\u001b[39m\n\u001b[32m    322\u001b[39m         \u001b[33m\"\u001b[39m\u001b[33myou can use builtins\u001b[39m\u001b[33m'\u001b[39m\u001b[33m open.\u001b[39m\u001b[33m\"\u001b[39m\n\u001b[32m    323\u001b[39m     )\n\u001b[32m--> \u001b[39m\u001b[32m325\u001b[39m \u001b[38;5;28;01mreturn\u001b[39;00m \u001b[43mio_open\u001b[49m\u001b[43m(\u001b[49m\u001b[43mfile\u001b[49m\u001b[43m,\u001b[49m\u001b[43m \u001b[49m\u001b[43m*\u001b[49m\u001b[43margs\u001b[49m\u001b[43m,\u001b[49m\u001b[43m \u001b[49m\u001b[43m*\u001b[49m\u001b[43m*\u001b[49m\u001b[43mkwargs\u001b[49m\u001b[43m)\u001b[49m\n",
      "\u001b[31mFileNotFoundError\u001b[39m: [Errno 2] No such file or directory: '../backtest/results/baseline/baseline_results.json'"
     ]
    }
   ],
   "source": [
    "# Cell 2\n",
    "def establish_baseline():\n",
    "    symbols = ['AAPL', 'MSFT', 'SPY', 'GOOGL']\n",
    "    periods = ['1y', '2y']\n",
    "    baseline_results = {}\n",
    "\n",
    "    for symbol in symbols:\n",
    "        for period in periods:\n",
    "            print(f\"Running baseline: {symbol} - {period}\")\n",
    "            \n",
    "            data = load_data(symbol, period)\n",
    "            algo = AdvancedTradingAlgorithm()\n",
    "            results = run_backtest(algo, data)\n",
    "            metrics = calculate_comprehensive_metrics(results)\n",
    "\n",
    "            key = f\"{symbol}_{period}\"\n",
    "            baseline_results[key] = {\n",
    "                'symbol': symbol,\n",
    "                'period': period,\n",
    "                'total_return': metrics['total_return'],\n",
    "                'sharpe_ratio': metrics['sharpe_ratio'],\n",
    "                'max_drawdown': metrics['max_drawdown'],\n",
    "                'win_rate': metrics['win_rate'],\n",
    "                'profit_factor': metrics['profit_factor'],\n",
    "                'total_trades': metrics['total_trades'],\n",
    "                'timestamp': datetime.now().isoformat(),\n",
    "            \n",
    "            }\n",
    "\n",
    "    with open('../backtest/results/baseline/baseline_results.json', 'w') as f:\n",
    "        json.dump(baseline_results, f, indent=2)\n",
    "\n",
    "    return baseline_results\n",
    "\n",
    "baseline = establish_baseline()\n"
   ]
  },
  {
   "cell_type": "code",
   "execution_count": null,
   "id": "ab0e569b-6e49-4ba2-951d-c6b3365eca54",
   "metadata": {},
   "outputs": [],
   "source": []
  },
  {
   "cell_type": "code",
   "execution_count": null,
   "id": "1d2e5b30-7197-40c7-8aea-e791f2737a78",
   "metadata": {},
   "outputs": [],
   "source": []
  }
 ],
 "metadata": {
  "kernelspec": {
   "display_name": "Python 3 (ipykernel)",
   "language": "python",
   "name": "python3"
  },
  "language_info": {
   "codemirror_mode": {
    "name": "ipython",
    "version": 3
   },
   "file_extension": ".py",
   "mimetype": "text/x-python",
   "name": "python",
   "nbconvert_exporter": "python",
   "pygments_lexer": "ipython3",
   "version": "3.12.1"
  }
 },
 "nbformat": 4,
 "nbformat_minor": 5
}
