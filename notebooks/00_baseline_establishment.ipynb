{
 "cells": [
  {
   "cell_type": "code",
   "execution_count": 1,
   "id": "111c69e3-77be-46eb-a5c8-c2e637c2e346",
   "metadata": {},
   "outputs": [],
   "source": [
    "# Cell 1\n",
    "import sys\n",
    "import os\n",
    "\n",
    "\n",
    "# This ensures imports like `from utils.data_loader import load_data` work\n",
    "project_root = os.path.abspath(\"..\")  # Adjust if your notebook is deeper\n",
    "if project_root not in sys.path:\n",
    " sys.path.insert(0, project_root)\n",
    "\n",
    "\n",
    "import pandas as pd\n",
    "import numpy as np\n",
    "import json\n",
    "from datetime import datetime\n",
    "import git\n",
    "\n",
    "from utilis.data_loader import load_data\n",
    "from strategies.current_algo import AdvancedTradingAlgorithm\n",
    "from backtests.engine import run_backtest\n",
    "from backtests.metrics import calculate_comprehensive_metrics\n"
   ]
  },
  {
   "cell_type": "code",
   "execution_count": 3,
   "id": "f035a353-3ebf-4495-aff7-812c636173d6",
   "metadata": {},
   "outputs": [
    {
     "name": "stdout",
     "output_type": "stream",
     "text": [
      "Running baseline: AAPL - 1y\n"
     ]
    },
    {
     "ename": "FileNotFoundError",
     "evalue": "Data file not found: data/processed/AAPL_1y.csv",
     "output_type": "error",
     "traceback": [
      "\u001b[31m---------------------------------------------------------------------------\u001b[39m",
      "\u001b[31mFileNotFoundError\u001b[39m                         Traceback (most recent call last)",
      "\u001b[36mCell\u001b[39m\u001b[36m \u001b[39m\u001b[32mIn[3]\u001b[39m\u001b[32m, line 35\u001b[39m\n\u001b[32m     31\u001b[39m         json.dump(baseline_results, f, indent=\u001b[32m2\u001b[39m)\n\u001b[32m     33\u001b[39m     \u001b[38;5;28;01mreturn\u001b[39;00m baseline_results\n\u001b[32m---> \u001b[39m\u001b[32m35\u001b[39m baseline = \u001b[43mestablish_baseline\u001b[49m\u001b[43m(\u001b[49m\u001b[43m)\u001b[49m\n",
      "\u001b[36mCell\u001b[39m\u001b[36m \u001b[39m\u001b[32mIn[3]\u001b[39m\u001b[32m, line 11\u001b[39m, in \u001b[36mestablish_baseline\u001b[39m\u001b[34m()\u001b[39m\n\u001b[32m      8\u001b[39m \u001b[38;5;28;01mfor\u001b[39;00m period \u001b[38;5;129;01min\u001b[39;00m periods:\n\u001b[32m      9\u001b[39m     \u001b[38;5;28mprint\u001b[39m(\u001b[33mf\u001b[39m\u001b[33m\"\u001b[39m\u001b[33mRunning baseline: \u001b[39m\u001b[38;5;132;01m{\u001b[39;00msymbol\u001b[38;5;132;01m}\u001b[39;00m\u001b[33m - \u001b[39m\u001b[38;5;132;01m{\u001b[39;00mperiod\u001b[38;5;132;01m}\u001b[39;00m\u001b[33m\"\u001b[39m)\n\u001b[32m---> \u001b[39m\u001b[32m11\u001b[39m     data = \u001b[43mload_data\u001b[49m\u001b[43m(\u001b[49m\u001b[43msymbol\u001b[49m\u001b[43m,\u001b[49m\u001b[43m \u001b[49m\u001b[43mperiod\u001b[49m\u001b[43m)\u001b[49m\n\u001b[32m     12\u001b[39m     algo = AdvancedTradingAlgorithm()\n\u001b[32m     13\u001b[39m     results = run_backtest(algo, data)\n",
      "\u001b[36mFile \u001b[39m\u001b[32m/workspaces/anomaly_trading_algorithm/utilis/data_loader.py:12\u001b[39m, in \u001b[36mload_data\u001b[39m\u001b[34m(symbol, period)\u001b[39m\n\u001b[32m     10\u001b[39m filename = \u001b[33mf\u001b[39m\u001b[33m\"\u001b[39m\u001b[33mdata/processed/\u001b[39m\u001b[38;5;132;01m{\u001b[39;00msymbol\u001b[38;5;132;01m}\u001b[39;00m\u001b[33m_\u001b[39m\u001b[38;5;132;01m{\u001b[39;00mperiod\u001b[38;5;132;01m}\u001b[39;00m\u001b[33m.csv\u001b[39m\u001b[33m\"\u001b[39m\n\u001b[32m     11\u001b[39m \u001b[38;5;28;01mif\u001b[39;00m \u001b[38;5;129;01mnot\u001b[39;00m os.path.exists(filename):\n\u001b[32m---> \u001b[39m\u001b[32m12\u001b[39m     \u001b[38;5;28;01mraise\u001b[39;00m \u001b[38;5;167;01mFileNotFoundError\u001b[39;00m(\u001b[33mf\u001b[39m\u001b[33m\"\u001b[39m\u001b[33mData file not found: \u001b[39m\u001b[38;5;132;01m{\u001b[39;00mfilename\u001b[38;5;132;01m}\u001b[39;00m\u001b[33m\"\u001b[39m)\n\u001b[32m     14\u001b[39m df = pd.read_csv(filename, index_col=\u001b[33m'\u001b[39m\u001b[33mdate\u001b[39m\u001b[33m'\u001b[39m, parse_dates=\u001b[38;5;28;01mTrue\u001b[39;00m)\n\u001b[32m     15\u001b[39m \u001b[38;5;28;01mreturn\u001b[39;00m df\n",
      "\u001b[31mFileNotFoundError\u001b[39m: Data file not found: data/processed/AAPL_1y.csv"
     ]
    }
   ],
   "source": [
    "# Cell 2\n",
    "def establish_baseline():\n",
    "    symbols = ['AAPL', 'MSFT', 'SPY', 'GOOGL']\n",
    "    periods = ['1y', '2y']\n",
    "    baseline_results = {}\n",
    "\n",
    "    for symbol in symbols:\n",
    "        for period in periods:\n",
    "            print(f\"Running baseline: {symbol} - {period}\")\n",
    "            \n",
    "            data = load_data(symbol, period)\n",
    "            algo = AdvancedTradingAlgorithm()\n",
    "            results = run_backtest(algo, data)\n",
    "            metrics = calculate_comprehensive_metrics(results)\n",
    "\n",
    "            key = f\"{symbol}_{period}\"\n",
    "            baseline_results[key] = {\n",
    "                'symbol': symbol,\n",
    "                'period': period,\n",
    "                'total_return': metrics['total_return'],\n",
    "                'sharpe_ratio': metrics['sharpe_ratio'],\n",
    "                'max_drawdown': metrics['max_drawdown'],\n",
    "                'win_rate': metrics['win_rate'],\n",
    "                'profit_factor': metrics['profit_factor'],\n",
    "                'total_trades': metrics['total_trades'],\n",
    "                'timestamp': datetime.now().isoformat(),\n",
    "                'git_commit': get_current_commit()\n",
    "            }\n",
    "\n",
    "    with open('../backtest/results/baseline/baseline_results.json', 'w') as f:\n",
    "        json.dump(baseline_results, f, indent=2)\n",
    "\n",
    "    return baseline_results\n",
    "\n",
    "baseline = establish_baseline()\n"
   ]
  },
  {
   "cell_type": "code",
   "execution_count": null,
   "id": "ab0e569b-6e49-4ba2-951d-c6b3365eca54",
   "metadata": {},
   "outputs": [],
   "source": []
  },
  {
   "cell_type": "code",
   "execution_count": null,
   "id": "1d2e5b30-7197-40c7-8aea-e791f2737a78",
   "metadata": {},
   "outputs": [],
   "source": []
  }
 ],
 "metadata": {
  "kernelspec": {
   "display_name": "Python 3 (ipykernel)",
   "language": "python",
   "name": "python3"
  },
  "language_info": {
   "codemirror_mode": {
    "name": "ipython",
    "version": 3
   },
   "file_extension": ".py",
   "mimetype": "text/x-python",
   "name": "python",
   "nbconvert_exporter": "python",
   "pygments_lexer": "ipython3",
   "version": "3.12.1"
  }
 },
 "nbformat": 4,
 "nbformat_minor": 5
}
