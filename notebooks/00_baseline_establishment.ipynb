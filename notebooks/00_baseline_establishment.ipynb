{
 "cells": [
  {
   "cell_type": "code",
   "execution_count": 1,
   "id": "111c69e3-77be-46eb-a5c8-c2e637c2e346",
   "metadata": {},
   "outputs": [],
   "source": [
    "# Cell 1\n",
    "import sys\n",
    "import os\n",
    "\n",
    "\n",
    "# This ensures imports like `from utils.data_loader import load_data` work\n",
    "project_root = os.path.abspath(\"..\")  # Adjust if your notebook is deeper\n",
    "if project_root not in sys.path:\n",
    " sys.path.insert(0, project_root)\n",
    "\n",
    "\n",
    "import pandas as pd\n",
    "import numpy as np\n",
    "import json\n",
    "from datetime import datetime\n",
    "import git\n",
    "\n",
    "from utilis.data_loader import load_data\n",
    "from strategies.current_algo import AdvancedTradingAlgorithm\n",
    "from backtests.engine import run_backtest\n",
    "from backtests.metrics import calculate_comprehensive_metrics\n"
   ]
  },
  {
   "cell_type": "code",
   "execution_count": 2,
   "id": "f035a353-3ebf-4495-aff7-812c636173d6",
   "metadata": {},
   "outputs": [
    {
     "name": "stdout",
     "output_type": "stream",
     "text": [
      "Running baseline: AAPL - 1y\n",
      "Looking for file at: /workspaces/anomaly_trading_algorithm/data/processed/AAPL_1y.csv\n"
     ]
    },
    {
     "ename": "UnboundLocalError",
     "evalue": "cannot access local variable 'action' where it is not associated with a value",
     "output_type": "error",
     "traceback": [
      "\u001b[31m---------------------------------------------------------------------------\u001b[39m",
      "\u001b[31mUnboundLocalError\u001b[39m                         Traceback (most recent call last)",
      "\u001b[36mCell\u001b[39m\u001b[36m \u001b[39m\u001b[32mIn[2]\u001b[39m\u001b[32m, line 35\u001b[39m\n\u001b[32m     31\u001b[39m         json.dump(baseline_results, f, indent=\u001b[32m2\u001b[39m)\n\u001b[32m     33\u001b[39m     \u001b[38;5;28;01mreturn\u001b[39;00m baseline_results\n\u001b[32m---> \u001b[39m\u001b[32m35\u001b[39m baseline = \u001b[43mestablish_baseline\u001b[49m\u001b[43m(\u001b[49m\u001b[43m)\u001b[49m\n",
      "\u001b[36mCell\u001b[39m\u001b[36m \u001b[39m\u001b[32mIn[2]\u001b[39m\u001b[32m, line 13\u001b[39m, in \u001b[36mestablish_baseline\u001b[39m\u001b[34m()\u001b[39m\n\u001b[32m     11\u001b[39m data = load_data(symbol, period)\n\u001b[32m     12\u001b[39m algo = AdvancedTradingAlgorithm()\n\u001b[32m---> \u001b[39m\u001b[32m13\u001b[39m results = \u001b[43mrun_backtest\u001b[49m\u001b[43m(\u001b[49m\u001b[43malgo\u001b[49m\u001b[43m,\u001b[49m\u001b[43m \u001b[49m\u001b[43mdata\u001b[49m\u001b[43m)\u001b[49m\n\u001b[32m     14\u001b[39m metrics = calculate_comprehensive_metrics(results)\n\u001b[32m     16\u001b[39m key = \u001b[33mf\u001b[39m\u001b[33m\"\u001b[39m\u001b[38;5;132;01m{\u001b[39;00msymbol\u001b[38;5;132;01m}\u001b[39;00m\u001b[33m_\u001b[39m\u001b[38;5;132;01m{\u001b[39;00mperiod\u001b[38;5;132;01m}\u001b[39;00m\u001b[33m\"\u001b[39m\n",
      "\u001b[36mFile \u001b[39m\u001b[32m/workspaces/anomaly_trading_algorithm/backtests/engine.py:8\u001b[39m, in \u001b[36mrun_backtest\u001b[39m\u001b[34m(algo, df)\u001b[39m\n\u001b[32m      3\u001b[39m \u001b[38;5;250m\u001b[39m\u001b[33;03m\"\"\"\u001b[39;00m\n\u001b[32m      4\u001b[39m \u001b[33;03mRun the strategy and return the result DataFrame.\u001b[39;00m\n\u001b[32m      5\u001b[39m \u001b[33;03mAssumes algo has methods: calculate_indicators(), execute_strategy()\u001b[39;00m\n\u001b[32m      6\u001b[39m \u001b[33;03m\"\"\"\u001b[39;00m\n\u001b[32m      7\u001b[39m data = algo.calculate_indicators(df)\n\u001b[32m----> \u001b[39m\u001b[32m8\u001b[39m results = \u001b[43malgo\u001b[49m\u001b[43m.\u001b[49m\u001b[43mexecute_strategy\u001b[49m\u001b[43m(\u001b[49m\u001b[43mdata\u001b[49m\u001b[43m)\u001b[49m\n\u001b[32m      9\u001b[39m \u001b[38;5;28;01mreturn\u001b[39;00m results\n",
      "\u001b[36mFile \u001b[39m\u001b[32m/workspaces/anomaly_trading_algorithm/strategies/current_algo.py:218\u001b[39m, in \u001b[36mAdvancedTradingAlgorithm.execute_strategy\u001b[39m\u001b[34m(self, data)\u001b[39m\n\u001b[32m    214\u001b[39m     combined_signal = secondary_signal[\u001b[33m\"\u001b[39m\u001b[33msignal\u001b[39m\u001b[33m\"\u001b[39m] * \u001b[32m0.5\u001b[39m  \u001b[38;5;66;03m# Reduced strength\u001b[39;00m\n\u001b[32m    216\u001b[39m signal_strength = \u001b[38;5;28mmax\u001b[39m(primary_signal[\u001b[33m\"\u001b[39m\u001b[33mstrength\u001b[39m\u001b[33m\"\u001b[39m], secondary_signal[\u001b[33m\"\u001b[39m\u001b[33mstrength\u001b[39m\u001b[33m\"\u001b[39m] * \u001b[32m0.5\u001b[39m)\n\u001b[32m--> \u001b[39m\u001b[32m218\u001b[39m \u001b[38;5;28;01mif\u001b[39;00m \u001b[43maction\u001b[49m.startswith(\u001b[33m\"\u001b[39m\u001b[33mEXIT\u001b[39m\u001b[33m\"\u001b[39m):\n\u001b[32m    219\u001b[39m         \u001b[38;5;66;03m# Calculate P&L\u001b[39;00m\n\u001b[32m    220\u001b[39m         \u001b[38;5;28;01mif\u001b[39;00m \u001b[38;5;28mself\u001b[39m.position == \u001b[32m1\u001b[39m:  \u001b[38;5;66;03m# Long position\u001b[39;00m\n\u001b[32m    221\u001b[39m             pnl_pct = (current[\u001b[33m'\u001b[39m\u001b[33mclose\u001b[39m\u001b[33m'\u001b[39m] - \u001b[38;5;28mself\u001b[39m.entry_price) / \u001b[38;5;28mself\u001b[39m.entry_price\n",
      "\u001b[31mUnboundLocalError\u001b[39m: cannot access local variable 'action' where it is not associated with a value"
     ]
    }
   ],
   "source": [
    "# Cell 2\n",
    "def establish_baseline():\n",
    "    symbols = ['AAPL', 'MSFT', 'SPY', 'GOOGL']\n",
    "    periods = ['1y', '2y']\n",
    "    baseline_results = {}\n",
    "\n",
    "    for symbol in symbols:\n",
    "        for period in periods:\n",
    "            print(f\"Running baseline: {symbol} - {period}\")\n",
    "            \n",
    "            data = load_data(symbol, period)\n",
    "            algo = AdvancedTradingAlgorithm()\n",
    "            results = run_backtest(algo, data)\n",
    "            metrics = calculate_comprehensive_metrics(results)\n",
    "\n",
    "            key = f\"{symbol}_{period}\"\n",
    "            baseline_results[key] = {\n",
    "                'symbol': symbol,\n",
    "                'period': period,\n",
    "                'total_return': metrics['total_return'],\n",
    "                'sharpe_ratio': metrics['sharpe_ratio'],\n",
    "                'max_drawdown': metrics['max_drawdown'],\n",
    "                'win_rate': metrics['win_rate'],\n",
    "                'profit_factor': metrics['profit_factor'],\n",
    "                'total_trades': metrics['total_trades'],\n",
    "                'timestamp': datetime.now().isoformat(),\n",
    "                'git_commit': get_current_commit()\n",
    "            }\n",
    "\n",
    "    with open('../backtest/results/baseline/baseline_results.json', 'w') as f:\n",
    "        json.dump(baseline_results, f, indent=2)\n",
    "\n",
    "    return baseline_results\n",
    "\n",
    "baseline = establish_baseline()\n"
   ]
  },
  {
   "cell_type": "code",
   "execution_count": null,
   "id": "ab0e569b-6e49-4ba2-951d-c6b3365eca54",
   "metadata": {},
   "outputs": [],
   "source": []
  },
  {
   "cell_type": "code",
   "execution_count": null,
   "id": "1d2e5b30-7197-40c7-8aea-e791f2737a78",
   "metadata": {},
   "outputs": [],
   "source": []
  }
 ],
 "metadata": {
  "kernelspec": {
   "display_name": "Python 3 (ipykernel)",
   "language": "python",
   "name": "python3"
  },
  "language_info": {
   "codemirror_mode": {
    "name": "ipython",
    "version": 3
   },
   "file_extension": ".py",
   "mimetype": "text/x-python",
   "name": "python",
   "nbconvert_exporter": "python",
   "pygments_lexer": "ipython3",
   "version": "3.12.1"
  }
 },
 "nbformat": 4,
 "nbformat_minor": 5
}
