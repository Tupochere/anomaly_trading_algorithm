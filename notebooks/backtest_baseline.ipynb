{
 "cells": [
  {
   "cell_type": "code",
   "execution_count": 3,
   "id": "759bf869-9ff0-4ed4-8ee5-cb0d7c9e5c60",
   "metadata": {},
   "outputs": [
    {
     "ename": "SyntaxError",
     "evalue": "trailing comma not allowed without surrounding parentheses (478121197.py, line 8)",
     "output_type": "error",
     "traceback": [
      "  \u001b[36mCell\u001b[39m\u001b[36m \u001b[39m\u001b[32mIn[3]\u001b[39m\u001b[32m, line 8\u001b[39m\n\u001b[31m    \u001b[39m\u001b[31mfrom current_algo import AdvancedTradingAlgorithm,\u001b[39m\n                                                       ^\n\u001b[31mSyntaxError\u001b[39m\u001b[31m:\u001b[39m trailing comma not allowed without surrounding parentheses\n"
     ]
    }
   ],
   "source": [
    "# --- Cell 1: Imports and Setup ---\n",
    "import sys\n",
    "import os\n",
    "sys.path.append(os.path.abspath(\"..\"))\n",
    "\n",
    "import pandas as pd\n",
    "import matplotlib.pyplot as plt\n",
    "from current_algo import AdvancedTradingAlgorithm, "
   ]
  },
  {
   "cell_type": "code",
   "execution_count": null,
   "id": "1122bf67-c87e-40a2-a173-130719592b3f",
   "metadata": {},
   "outputs": [],
   "source": [
    "# --- Cell 2: Load and Prepare Data ---\n",
    "# Load your cleaned CSV file (adjust the path as needed)\n",
    "df = pd.read_csv('data/processed/AAPL_1y.csv', parse_dates=['date'], index_col='date')\n",
    "df = df[['open', 'high', 'low', 'close', 'volume']].dropna()\n",
    "df.head()"
   ]
  },
  {
   "cell_type": "code",
   "execution_count": null,
   "id": "34d4d4d1-77ac-41fc-a817-d8495640acdf",
   "metadata": {},
   "outputs": [],
   "source": [
    "# --- Cell 3: Run Backtest ---\n",
    "results, performance, algo = backtest_algorithm(df)"
   ]
  },
  {
   "cell_type": "code",
   "execution_count": null,
   "id": "661fbfc8-de35-4755-a7d4-757069a83290",
   "metadata": {},
   "outputs": [],
   "source": [
    "# --- Cell 4: Display Performance Summary ---\n",
    "print(\"\\nPerformance Summary:\")\n",
    "for k, v in performance.items():\n",
    "    print(f\"{k.replace('_', ' ').title()}: {v:.2f}\" if isinstance(v, float) else f\"{k.replace('_', ' ').title()}: {v}\")"
   ]
  },
  {
   "cell_type": "code",
   "execution_count": null,
   "id": "ea2e3b62-b29e-438f-8567-da5b3705934d",
   "metadata": {},
   "outputs": [],
   "source": [
    "# --- Cell 5: Plot Strategy Actions ---\n",
    "plt.figure(figsize=(15, 6))\n",
    "plt.plot(results['close'], label='Close Price', alpha=0.5)\n",
    "\n",
    "buy_signals = results[results['action'] == 'BUY']\n",
    "sell_signals = results[results['action'] == 'SELL']\n",
    "exit_signals = results[results['action'].str.startswith('EXIT')]\n",
    "\n",
    "plt.scatter(buy_signals.index, buy_signals['close'], label='Buy', marker='^', color='green')\n",
    "plt.scatter(sell_signals.index, sell_signals['close'], label='Sell', marker='v', color='red')\n",
    "plt.scatter(exit_signals.index, exit_signals['close'], label='Exit', marker='x', color='black')\n",
    "\n",
    "plt.title('Trade Signals on Price Chart')\n",
    "plt.xlabel('Date')\n",
    "plt.ylabel('Price')\n",
    "plt.legend()\n",
    "plt.grid(True)\n",
    "plt.tight_layout()\n",
    "plt.show()"
   ]
  },
  {
   "cell_type": "code",
   "execution_count": null,
   "id": "9f456979-2123-4ad0-9a8a-64977d9f8606",
   "metadata": {},
   "outputs": [],
   "source": [
    "pd.DataFrame(algo.trades).tail()"
   ]
  }
 ],
 "metadata": {
  "kernelspec": {
   "display_name": "Python 3 (ipykernel)",
   "language": "python",
   "name": "python3"
  },
  "language_info": {
   "codemirror_mode": {
    "name": "ipython",
    "version": 3
   },
   "file_extension": ".py",
   "mimetype": "text/x-python",
   "name": "python",
   "nbconvert_exporter": "python",
   "pygments_lexer": "ipython3",
   "version": "3.12.1"
  }
 },
 "nbformat": 4,
 "nbformat_minor": 5
}
