{
 "cells": [
  {
   "cell_type": "code",
   "execution_count": null,
   "id": "61e34e7a-3188-4381-bc9b-138156aab192",
   "metadata": {},
   "outputs": [],
   "source": [
    "# Market Research & Pattern Discovery\n",
    "import yfinance as yf\n",
    "import pandas as pd\n",
    "import numpy as np\n",
    "import matplotlib.pyplot as plt\n",
    "from datetime import datetime, timedelta\n",
    "\n",
    "# Economic indicators and market sectors\n",
    "research_universe = {\n",
    "    'indices': ['SPY', 'QQQ', 'IWM', 'DIA'],\n",
    "    'sectors': ['XLF', 'XLK', 'XLE', 'XLV', 'XLI'],\n",
    "    'commodities': ['GLD', 'SLV', 'USO', 'UNG'],\n",
    "    'bonds': ['TLT', 'IEF', 'SHY', 'HYG'],\n",
    "    'volatility': ['VIX', 'UVXY', 'SVXY']\n",
    "}\n",
    "\n",
    "# Function to analyze correlations\n",
    "def analyze_market_correlations(tickers, period='3mo'):\n",
    "    \"\"\"Analyze correlations between different assets\"\"\"\n",
    "    data = {}\n",
    "    for ticker in tickers:\n",
    "        try:\n",
    "            stock = yf.Ticker(ticker)\n",
    "            data[ticker] = stock.history(period=period)['Close']\n",
    "        except:\n",
    "            print(f\"Failed to get data for {ticker}\")\n",
    "    \n",
    "    df = pd.DataFrame(data)\n",
    "    correlation_matrix = df.pct_change().corr()\n",
    "    \n",
    "    # Plot correlation heatmap\n",
    "    plt.figure(figsize=(10, 8))\n",
    "    sns.heatmap(correlation_matrix, annot=True, cmap='coolwarm', center=0)\n",
    "    plt.title('Asset Correlation Matrix')\n",
    "    plt.show()\n",
    "    \n",
    "    return correlation_matrix\n",
    "\n",
    "# Run correlation analysis\n",
    "all_tickers = []\n",
    "for category in research_universe.values():\n",
    "    all_tickers.extend(category)\n",
    "\n",
    "print(\"🔍 Analyzing market correlations...\")\n",
    "correlations = analyze_market_correlations(all_tickers[:10])  # Limit for free tier"
   ]
  }
 ],
 "metadata": {
  "kernelspec": {
   "display_name": "Python 3 (ipykernel)",
   "language": "python",
   "name": "python3"
  },
  "language_info": {
   "codemirror_mode": {
    "name": "ipython",
    "version": 3
   },
   "file_extension": ".py",
   "mimetype": "text/x-python",
   "name": "python",
   "nbconvert_exporter": "python",
   "pygments_lexer": "ipython3",
   "version": "3.12.1"
  }
 },
 "nbformat": 4,
 "nbformat_minor": 5
}
